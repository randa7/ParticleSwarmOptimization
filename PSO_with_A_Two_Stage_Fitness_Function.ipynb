{
  "nbformat": 4,
  "nbformat_minor": 0,
  "metadata": {
    "colab": {
      "name": "PSO_with A Two_Stage Fitness Function.ipynb",
      "provenance": [],
      "collapsed_sections": []
    },
    "kernelspec": {
      "display_name": "Python 3",
      "name": "python3"
    }
  },
  "cells": [
    {
      "cell_type": "code",
      "metadata": {
        "id": "EX1oXoEvfUw6"
      },
      "source": [
        "from __future__ import division\n",
        "import random\n",
        "import math\n",
        "import pandas as pd\n",
        "from sklearn.metrics import accuracy_score\n",
        "from sklearn.metrics import zero_one_loss\n",
        "from sklearn.neighbors import KNeighborsClassifier\n",
        "from sklearn import model_selection\n",
        "import matplotlib.pyplot as plt\n",
        "import warnings\n",
        "import numpy as np"
      ],
      "execution_count": 23,
      "outputs": []
    },
    {
      "cell_type": "code",
      "metadata": {
        "colab": {
          "base_uri": "https://localhost:8080/",
          "height": 226
        },
        "id": "KYC41UGXMNKd",
        "outputId": "f4bc7bcf-64a6-464b-8dac-e2a4998ba821"
      },
      "source": [
        "warnings.filterwarnings('ignore')\n",
        "url = \"https://archive.ics.uci.edu/ml/machine-learning-databases/breast-cancer-wisconsin/wdbc.data\"\n",
        "names = []\n",
        "for i in range(32):\n",
        "  names.append(i)\n",
        "dataset = pd.read_csv(url,names=names)\n",
        "dataset.shape\n",
        "dataset = dataset.drop(0, axis=1)\n",
        "dataset2 = dataset.iloc[:,1:]\n",
        "dataset.head()"
      ],
      "execution_count": 24,
      "outputs": [
        {
          "output_type": "execute_result",
          "data": {
            "text/html": [
              "<div>\n",
              "<style scoped>\n",
              "    .dataframe tbody tr th:only-of-type {\n",
              "        vertical-align: middle;\n",
              "    }\n",
              "\n",
              "    .dataframe tbody tr th {\n",
              "        vertical-align: top;\n",
              "    }\n",
              "\n",
              "    .dataframe thead th {\n",
              "        text-align: right;\n",
              "    }\n",
              "</style>\n",
              "<table border=\"1\" class=\"dataframe\">\n",
              "  <thead>\n",
              "    <tr style=\"text-align: right;\">\n",
              "      <th></th>\n",
              "      <th>1</th>\n",
              "      <th>2</th>\n",
              "      <th>3</th>\n",
              "      <th>4</th>\n",
              "      <th>5</th>\n",
              "      <th>6</th>\n",
              "      <th>7</th>\n",
              "      <th>8</th>\n",
              "      <th>9</th>\n",
              "      <th>10</th>\n",
              "      <th>11</th>\n",
              "      <th>12</th>\n",
              "      <th>13</th>\n",
              "      <th>14</th>\n",
              "      <th>15</th>\n",
              "      <th>16</th>\n",
              "      <th>17</th>\n",
              "      <th>18</th>\n",
              "      <th>19</th>\n",
              "      <th>20</th>\n",
              "      <th>21</th>\n",
              "      <th>22</th>\n",
              "      <th>23</th>\n",
              "      <th>24</th>\n",
              "      <th>25</th>\n",
              "      <th>26</th>\n",
              "      <th>27</th>\n",
              "      <th>28</th>\n",
              "      <th>29</th>\n",
              "      <th>30</th>\n",
              "      <th>31</th>\n",
              "    </tr>\n",
              "  </thead>\n",
              "  <tbody>\n",
              "    <tr>\n",
              "      <th>0</th>\n",
              "      <td>M</td>\n",
              "      <td>17.99</td>\n",
              "      <td>10.38</td>\n",
              "      <td>122.80</td>\n",
              "      <td>1001.0</td>\n",
              "      <td>0.11840</td>\n",
              "      <td>0.27760</td>\n",
              "      <td>0.3001</td>\n",
              "      <td>0.14710</td>\n",
              "      <td>0.2419</td>\n",
              "      <td>0.07871</td>\n",
              "      <td>1.0950</td>\n",
              "      <td>0.9053</td>\n",
              "      <td>8.589</td>\n",
              "      <td>153.40</td>\n",
              "      <td>0.006399</td>\n",
              "      <td>0.04904</td>\n",
              "      <td>0.05373</td>\n",
              "      <td>0.01587</td>\n",
              "      <td>0.03003</td>\n",
              "      <td>0.006193</td>\n",
              "      <td>25.38</td>\n",
              "      <td>17.33</td>\n",
              "      <td>184.60</td>\n",
              "      <td>2019.0</td>\n",
              "      <td>0.1622</td>\n",
              "      <td>0.6656</td>\n",
              "      <td>0.7119</td>\n",
              "      <td>0.2654</td>\n",
              "      <td>0.4601</td>\n",
              "      <td>0.11890</td>\n",
              "    </tr>\n",
              "    <tr>\n",
              "      <th>1</th>\n",
              "      <td>M</td>\n",
              "      <td>20.57</td>\n",
              "      <td>17.77</td>\n",
              "      <td>132.90</td>\n",
              "      <td>1326.0</td>\n",
              "      <td>0.08474</td>\n",
              "      <td>0.07864</td>\n",
              "      <td>0.0869</td>\n",
              "      <td>0.07017</td>\n",
              "      <td>0.1812</td>\n",
              "      <td>0.05667</td>\n",
              "      <td>0.5435</td>\n",
              "      <td>0.7339</td>\n",
              "      <td>3.398</td>\n",
              "      <td>74.08</td>\n",
              "      <td>0.005225</td>\n",
              "      <td>0.01308</td>\n",
              "      <td>0.01860</td>\n",
              "      <td>0.01340</td>\n",
              "      <td>0.01389</td>\n",
              "      <td>0.003532</td>\n",
              "      <td>24.99</td>\n",
              "      <td>23.41</td>\n",
              "      <td>158.80</td>\n",
              "      <td>1956.0</td>\n",
              "      <td>0.1238</td>\n",
              "      <td>0.1866</td>\n",
              "      <td>0.2416</td>\n",
              "      <td>0.1860</td>\n",
              "      <td>0.2750</td>\n",
              "      <td>0.08902</td>\n",
              "    </tr>\n",
              "    <tr>\n",
              "      <th>2</th>\n",
              "      <td>M</td>\n",
              "      <td>19.69</td>\n",
              "      <td>21.25</td>\n",
              "      <td>130.00</td>\n",
              "      <td>1203.0</td>\n",
              "      <td>0.10960</td>\n",
              "      <td>0.15990</td>\n",
              "      <td>0.1974</td>\n",
              "      <td>0.12790</td>\n",
              "      <td>0.2069</td>\n",
              "      <td>0.05999</td>\n",
              "      <td>0.7456</td>\n",
              "      <td>0.7869</td>\n",
              "      <td>4.585</td>\n",
              "      <td>94.03</td>\n",
              "      <td>0.006150</td>\n",
              "      <td>0.04006</td>\n",
              "      <td>0.03832</td>\n",
              "      <td>0.02058</td>\n",
              "      <td>0.02250</td>\n",
              "      <td>0.004571</td>\n",
              "      <td>23.57</td>\n",
              "      <td>25.53</td>\n",
              "      <td>152.50</td>\n",
              "      <td>1709.0</td>\n",
              "      <td>0.1444</td>\n",
              "      <td>0.4245</td>\n",
              "      <td>0.4504</td>\n",
              "      <td>0.2430</td>\n",
              "      <td>0.3613</td>\n",
              "      <td>0.08758</td>\n",
              "    </tr>\n",
              "    <tr>\n",
              "      <th>3</th>\n",
              "      <td>M</td>\n",
              "      <td>11.42</td>\n",
              "      <td>20.38</td>\n",
              "      <td>77.58</td>\n",
              "      <td>386.1</td>\n",
              "      <td>0.14250</td>\n",
              "      <td>0.28390</td>\n",
              "      <td>0.2414</td>\n",
              "      <td>0.10520</td>\n",
              "      <td>0.2597</td>\n",
              "      <td>0.09744</td>\n",
              "      <td>0.4956</td>\n",
              "      <td>1.1560</td>\n",
              "      <td>3.445</td>\n",
              "      <td>27.23</td>\n",
              "      <td>0.009110</td>\n",
              "      <td>0.07458</td>\n",
              "      <td>0.05661</td>\n",
              "      <td>0.01867</td>\n",
              "      <td>0.05963</td>\n",
              "      <td>0.009208</td>\n",
              "      <td>14.91</td>\n",
              "      <td>26.50</td>\n",
              "      <td>98.87</td>\n",
              "      <td>567.7</td>\n",
              "      <td>0.2098</td>\n",
              "      <td>0.8663</td>\n",
              "      <td>0.6869</td>\n",
              "      <td>0.2575</td>\n",
              "      <td>0.6638</td>\n",
              "      <td>0.17300</td>\n",
              "    </tr>\n",
              "    <tr>\n",
              "      <th>4</th>\n",
              "      <td>M</td>\n",
              "      <td>20.29</td>\n",
              "      <td>14.34</td>\n",
              "      <td>135.10</td>\n",
              "      <td>1297.0</td>\n",
              "      <td>0.10030</td>\n",
              "      <td>0.13280</td>\n",
              "      <td>0.1980</td>\n",
              "      <td>0.10430</td>\n",
              "      <td>0.1809</td>\n",
              "      <td>0.05883</td>\n",
              "      <td>0.7572</td>\n",
              "      <td>0.7813</td>\n",
              "      <td>5.438</td>\n",
              "      <td>94.44</td>\n",
              "      <td>0.011490</td>\n",
              "      <td>0.02461</td>\n",
              "      <td>0.05688</td>\n",
              "      <td>0.01885</td>\n",
              "      <td>0.01756</td>\n",
              "      <td>0.005115</td>\n",
              "      <td>22.54</td>\n",
              "      <td>16.67</td>\n",
              "      <td>152.20</td>\n",
              "      <td>1575.0</td>\n",
              "      <td>0.1374</td>\n",
              "      <td>0.2050</td>\n",
              "      <td>0.4000</td>\n",
              "      <td>0.1625</td>\n",
              "      <td>0.2364</td>\n",
              "      <td>0.07678</td>\n",
              "    </tr>\n",
              "  </tbody>\n",
              "</table>\n",
              "</div>"
            ],
            "text/plain": [
              "  1      2      3       4       5   ...      27      28      29      30       31\n",
              "0  M  17.99  10.38  122.80  1001.0  ...  0.6656  0.7119  0.2654  0.4601  0.11890\n",
              "1  M  20.57  17.77  132.90  1326.0  ...  0.1866  0.2416  0.1860  0.2750  0.08902\n",
              "2  M  19.69  21.25  130.00  1203.0  ...  0.4245  0.4504  0.2430  0.3613  0.08758\n",
              "3  M  11.42  20.38   77.58   386.1  ...  0.8663  0.6869  0.2575  0.6638  0.17300\n",
              "4  M  20.29  14.34  135.10  1297.0  ...  0.2050  0.4000  0.1625  0.2364  0.07678\n",
              "\n",
              "[5 rows x 31 columns]"
            ]
          },
          "metadata": {},
          "execution_count": 24
        }
      ]
    },
    {
      "cell_type": "code",
      "metadata": {
        "id": "dd_MJ6Jz_436"
      },
      "source": [
        "XER = dataset.values[:,1:]\n",
        "YER = dataset.values[:, 0:1]\n",
        "X_trainER, X_validationER, Y_trainER, Y_validationER = model_selection.train_test_split(XER, YER, test_size=0.2)\n",
        "knnER = KNeighborsClassifier(n_neighbors=5)\n",
        "knnER.fit(X_trainER, Y_trainER)\n",
        "predictionsER = knnER.predict(X_validationER)\n",
        "ER = zero_one_loss(Y_validationER, predictionsER)\n",
        "\n"
      ],
      "execution_count": 25,
      "outputs": []
    },
    {
      "cell_type": "code",
      "metadata": {
        "id": "x_MLTTe5eMom"
      },
      "source": [
        "def func1(x):\n",
        "  dt = dataset2\n",
        "  for i in range(len(x)):\n",
        "      if(round(x[i])==0):\n",
        "        dt = dt.drop([i+2], axis=1)\n",
        "  array = dt.values\n",
        "  X = array[:,1:dt.shape[1]-1]\n",
        "  Y = dataset.values[:, 0:1]\n",
        "  X_train, X_validation, Y_train, Y_validation = model_selection.train_test_split(X, Y, test_size=0.2)\n",
        "  knn = KNeighborsClassifier(n_neighbors=5)\n",
        "  knn.fit(X_train, Y_train)\n",
        "  predictions = knn.predict(X_validation)\n",
        "  error = zero_one_loss(Y_validation, predictions)\n",
        "  features = X.shape[1]\n",
        "  alpha = random.uniform(0,0.49)\n",
        "  classification_accuracy = error/ER\n",
        "  if classification_accuracy > 1:\n",
        "    classification_accuracy = 1\n",
        "\n",
        "\n",
        "  fitness = alpha*features/30 + (1 - alpha) * classification_accuracy\n",
        "\n",
        "\n",
        "  return fitness"
      ],
      "execution_count": 26,
      "outputs": []
    },
    {
      "cell_type": "code",
      "metadata": {
        "id": "JkPoyklSe_0y"
      },
      "source": [
        "class Particle:\n",
        "    def __init__(self,x0):\n",
        "        self.position_i=[]          \n",
        "        self.velocity_i=[]         \n",
        "        self.pos_best_i=[]          \n",
        "        self.err_best_i=1          \n",
        "        self.err_i=1               \n",
        "\n",
        "        for i in range(0,num_dimensions):\n",
        "            self.velocity_i.append(random.uniform(-1,1))\n",
        "            self.position_i.append(x0[i])\n",
        "\n",
        "    def evaluate(self,costFunc):\n",
        "        self.err_i=costFunc(self.position_i)\n",
        "\n",
        "        if self.err_i < self.err_best_i:\n",
        "            self.pos_best_i=self.position_i\n",
        "            self.err_best_i=self.err_i\n",
        "\n",
        "    def update_velocity(self,pos_best_g):\n",
        "        w=0.5       \n",
        "        c1=1        \n",
        "        c2=2        \n",
        "\n",
        "        for i in range(0,num_dimensions):\n",
        "            r1=random.random()\n",
        "            r2=random.random()\n",
        "\n",
        "            vel_cognitive=c1*r1*(self.pos_best_i[i]-self.position_i[i])\n",
        "            vel_social=c2*r2*(pos_best_g[i]-self.position_i[i])\n",
        "            self.velocity_i[i]=w*self.velocity_i[i]+vel_cognitive+vel_social\n",
        "\n",
        "   \n",
        "    def update_position(self,bounds):\n",
        "        for i in range(0,num_dimensions):\n",
        "            self.position_i[i]=self.position_i[i]+self.velocity_i[i]\n",
        "\n",
        "            if self.position_i[i]>bounds[i][1]:\n",
        "                self.position_i[i]=bounds[i][1]\n",
        "\n",
        "            if self.position_i[i] < bounds[i][0]:\n",
        "                self.position_i[i]=bounds[i][0]"
      ],
      "execution_count": 27,
      "outputs": []
    },
    {
      "cell_type": "code",
      "metadata": {
        "id": "z0-mD4SVfCSU"
      },
      "source": [
        "class PSO():\n",
        "    def __init__(self,costFunc,x0,bounds,num_particles,maxiter):\n",
        "        global num_dimensions\n",
        "\n",
        "        num_dimensions=len(x0)\n",
        "        self.err_best_g=1.0                   \n",
        "        self.pos_best_g=[]\n",
        "        self.err_list = []                 \n",
        "       \n",
        "        swarm=[]\n",
        "        for i in range(0,num_particles):\n",
        "            swarm.append(Particle(x0))\n",
        "       \n",
        "        i=0\n",
        "        while i < maxiter:\n",
        "            for j in range(0,num_particles):\n",
        "                swarm[j].evaluate(costFunc)\n",
        "\n",
        "                if swarm[j].err_i < self.err_best_g:\n",
        "                    self.err_best_g=float(swarm[j].err_i)\n",
        "                    self.pos_best_g=swarm[j].position_i\n",
        "\n",
        "            for j in range(0,num_particles):\n",
        "                swarm[j].update_velocity(self.pos_best_g)\n",
        "                swarm[j].update_position(bounds)\n",
        "            self.err_list.append(self.err_best_g)\n",
        "            i+=1\n"
      ],
      "execution_count": 28,
      "outputs": []
    },
    {
      "cell_type": "code",
      "metadata": {
        "id": "37hR78H6fJxU"
      },
      "source": [
        "initial=[]\n",
        "bounds = []\n",
        "for i in range(30):\n",
        "  bounds.append((0,1))\n",
        "  initial.append(random.random())               "
      ],
      "execution_count": 29,
      "outputs": []
    },
    {
      "cell_type": "code",
      "metadata": {
        "colab": {
          "base_uri": "https://localhost:8080/",
          "height": 279
        },
        "id": "zdCia9L7zjHs",
        "outputId": "76fefed7-7d13-42a5-ea19-0d2126c1eb08"
      },
      "source": [
        "pso = PSO(func1,initial,bounds,num_particles=5,maxiter=10)\n",
        "plt.plot(pso.err_list)\n",
        "plt.ylabel('error')\n",
        "plt.xlabel('iterasi')\n",
        "plt.show()"
      ],
      "execution_count": 34,
      "outputs": [
        {
          "output_type": "display_data",
          "data": {
            "image/png": "[encoded data removed]",
            "text/plain": [
              "<Figure size 432x288 with 1 Axes>"
            ]
          },
          "metadata": {
            "needs_background": "light"
          }
        }
      ]
    },
    {
      "cell_type": "code",
      "metadata": {
        "id": "P8wUYobsOV1v",
        "colab": {
          "base_uri": "https://localhost:8080/",
          "height": 279
        },
        "outputId": "64a77ea2-aa78-4d41-cfea-6da3579a2f90"
      },
      "source": [
        "pso = PSO(func1,initial,bounds,num_particles=5,maxiter=25)\n",
        "plt.plot(pso.err_list)\n",
        "plt.ylabel('error')\n",
        "plt.xlabel('iterasi')\n",
        "plt.show()"
      ],
      "execution_count": 35,
      "outputs": [
        {
          "output_type": "display_data",
          "data": {
            "image/png": "[encoded data removed]",
            "text/plain": [
              "<Figure size 432x288 with 1 Axes>"
            ]
          },
          "metadata": {
            "needs_background": "light"
          }
        }
      ]
    },
    {
      "cell_type": "code",
      "metadata": {
        "id": "cVVYrAcTObhv",
        "colab": {
          "base_uri": "https://localhost:8080/",
          "height": 279
        },
        "outputId": "0276a260-d4bf-4606-bf49-b4f307297b88"
      },
      "source": [
        "pso = PSO(func1,initial,bounds,num_particles=5,maxiter=50)\n",
        "plt.plot(pso.err_list)\n",
        "plt.ylabel('error')\n",
        "plt.xlabel('iterasi')\n",
        "plt.show()"
      ],
      "execution_count": 36,
      "outputs": [
        {
          "output_type": "display_data",
          "data": {
            "image/png": "[encoded data removed]",
            "text/plain": [
              "<Figure size 432x288 with 1 Axes>"
            ]
          },
          "metadata": {
            "needs_background": "light"
          }
        }
      ]
    },
    {
      "cell_type": "code",
      "metadata": {
        "id": "0m2GcTnwWLi4",
        "colab": {
          "base_uri": "https://localhost:8080/",
          "height": 279
        },
        "outputId": "89c61720-191c-4e3e-90ec-2ff45b1b73c0"
      },
      "source": [
        "progress = []\n",
        "for i in range(1,20):\n",
        "  pso = PSO(func1,initial,bounds,num_particles=i,maxiter=27)\n",
        "  progress.append(pso.err_best_g)\n",
        "plt.plot(progress)\n",
        "plt.ylabel('error')\n",
        "plt.xlabel('partikel')\n",
        "plt.show()"
      ],
      "execution_count": 47,
      "outputs": [
        {
          "output_type": "display_data",
          "data": {
            "image/png": "[encoded data removed]",
            "text/plain": [
              "<Figure size 432x288 with 1 Axes>"
            ]
          },
          "metadata": {
            "needs_background": "light"
          }
        }
      ]
    },
    {
      "cell_type": "code",
      "metadata": {
        "id": "XyFI_gIpmN0O",
        "colab": {
          "base_uri": "https://localhost:8080/",
          "height": 206
        },
        "outputId": "5f93edbc-68d5-4451-b4cb-e182532377c6"
      },
      "source": [
        "pso = PSO(func1,initial,bounds,num_particles=9,maxiter=27)\n",
        "df = dataset\n",
        "for i in range(len(pso.pos_best_g)):\n",
        "    if(round(pso.pos_best_g[i])==0):\n",
        "      df = df.drop([i+2], axis=1)\n",
        "df.head()"
      ],
      "execution_count": 49,
      "outputs": [
        {
          "output_type": "execute_result",
          "data": {
            "text/html": [
              "<div>\n",
              "<style scoped>\n",
              "    .dataframe tbody tr th:only-of-type {\n",
              "        vertical-align: middle;\n",
              "    }\n",
              "\n",
              "    .dataframe tbody tr th {\n",
              "        vertical-align: top;\n",
              "    }\n",
              "\n",
              "    .dataframe thead th {\n",
              "        text-align: right;\n",
              "    }\n",
              "</style>\n",
              "<table border=\"1\" class=\"dataframe\">\n",
              "  <thead>\n",
              "    <tr style=\"text-align: right;\">\n",
              "      <th></th>\n",
              "      <th>1</th>\n",
              "      <th>2</th>\n",
              "      <th>5</th>\n",
              "      <th>7</th>\n",
              "      <th>8</th>\n",
              "      <th>12</th>\n",
              "      <th>16</th>\n",
              "      <th>19</th>\n",
              "      <th>23</th>\n",
              "      <th>24</th>\n",
              "      <th>25</th>\n",
              "      <th>29</th>\n",
              "    </tr>\n",
              "  </thead>\n",
              "  <tbody>\n",
              "    <tr>\n",
              "      <th>0</th>\n",
              "      <td>M</td>\n",
              "      <td>17.99</td>\n",
              "      <td>1001.0</td>\n",
              "      <td>0.27760</td>\n",
              "      <td>0.3001</td>\n",
              "      <td>1.0950</td>\n",
              "      <td>0.006399</td>\n",
              "      <td>0.01587</td>\n",
              "      <td>17.33</td>\n",
              "      <td>184.60</td>\n",
              "      <td>2019.0</td>\n",
              "      <td>0.2654</td>\n",
              "    </tr>\n",
              "    <tr>\n",
              "      <th>1</th>\n",
              "      <td>M</td>\n",
              "      <td>20.57</td>\n",
              "      <td>1326.0</td>\n",
              "      <td>0.07864</td>\n",
              "      <td>0.0869</td>\n",
              "      <td>0.5435</td>\n",
              "      <td>0.005225</td>\n",
              "      <td>0.01340</td>\n",
              "      <td>23.41</td>\n",
              "      <td>158.80</td>\n",
              "      <td>1956.0</td>\n",
              "      <td>0.1860</td>\n",
              "    </tr>\n",
              "    <tr>\n",
              "      <th>2</th>\n",
              "      <td>M</td>\n",
              "      <td>19.69</td>\n",
              "      <td>1203.0</td>\n",
              "      <td>0.15990</td>\n",
              "      <td>0.1974</td>\n",
              "      <td>0.7456</td>\n",
              "      <td>0.006150</td>\n",
              "      <td>0.02058</td>\n",
              "      <td>25.53</td>\n",
              "      <td>152.50</td>\n",
              "      <td>1709.0</td>\n",
              "      <td>0.2430</td>\n",
              "    </tr>\n",
              "    <tr>\n",
              "      <th>3</th>\n",
              "      <td>M</td>\n",
              "      <td>11.42</td>\n",
              "      <td>386.1</td>\n",
              "      <td>0.28390</td>\n",
              "      <td>0.2414</td>\n",
              "      <td>0.4956</td>\n",
              "      <td>0.009110</td>\n",
              "      <td>0.01867</td>\n",
              "      <td>26.50</td>\n",
              "      <td>98.87</td>\n",
              "      <td>567.7</td>\n",
              "      <td>0.2575</td>\n",
              "    </tr>\n",
              "    <tr>\n",
              "      <th>4</th>\n",
              "      <td>M</td>\n",
              "      <td>20.29</td>\n",
              "      <td>1297.0</td>\n",
              "      <td>0.13280</td>\n",
              "      <td>0.1980</td>\n",
              "      <td>0.7572</td>\n",
              "      <td>0.011490</td>\n",
              "      <td>0.01885</td>\n",
              "      <td>16.67</td>\n",
              "      <td>152.20</td>\n",
              "      <td>1575.0</td>\n",
              "      <td>0.1625</td>\n",
              "    </tr>\n",
              "  </tbody>\n",
              "</table>\n",
              "</div>"
            ],
            "text/plain": [
              "  1      2       5        7       8   ...       19     23      24      25      29\n",
              "0  M  17.99  1001.0  0.27760  0.3001  ...  0.01587  17.33  184.60  2019.0  0.2654\n",
              "1  M  20.57  1326.0  0.07864  0.0869  ...  0.01340  23.41  158.80  1956.0  0.1860\n",
              "2  M  19.69  1203.0  0.15990  0.1974  ...  0.02058  25.53  152.50  1709.0  0.2430\n",
              "3  M  11.42   386.1  0.28390  0.2414  ...  0.01867  26.50   98.87   567.7  0.2575\n",
              "4  M  20.29  1297.0  0.13280  0.1980  ...  0.01885  16.67  152.20  1575.0  0.1625\n",
              "\n",
              "[5 rows x 12 columns]"
            ]
          },
          "metadata": {},
          "execution_count": 49
        }
      ]
    },
    {
      "cell_type": "code",
      "metadata": {
        "id": "EDpVmWjLM_n2",
        "colab": {
          "base_uri": "https://localhost:8080/"
        },
        "outputId": "49f9b57c-dc33-4b38-8dbd-0f9ad9095d97"
      },
      "source": [
        "array = df.values\n",
        "X = array[:,1:df.shape[1]-1]\n",
        "Y = array[:,0:1]\n",
        "X_train, X_validation, Y_train, Y_validation = model_selection.train_test_split(X, Y, test_size=0.2)\n",
        "knn = KNeighborsClassifier(n_neighbors=5)\n",
        "knn.fit(X_train, Y_train)\n",
        "predictions = knn.predict(X_validation)\n",
        "print(\"Akurasi :\", accuracy_score(Y_validation, predictions))"
      ],
      "execution_count": 62,
      "outputs": [
        {
          "output_type": "stream",
          "name": "stdout",
          "text": [
            "Akurasi : 0.956140350877193\n"
          ]
        }
      ]
    },
    {
      "cell_type": "code",
      "metadata": {
        "id": "sDsXC5SfpxLQ",
        "colab": {
          "base_uri": "https://localhost:8080/"
        },
        "outputId": "9a503d95-abc5-464c-f425-65c6f230f553"
      },
      "source": [
        "array = dataset.values\n",
        "X = array[:,1:dataset.shape[1]-1]\n",
        "Y = array[:,0:1]\n",
        "X_train, X_validation, Y_train, Y_validation = model_selection.train_test_split(X, Y, test_size=0.2)\n",
        "knn2 = KNeighborsClassifier(n_neighbors=5)\n",
        "knn2.fit(X_train, Y_train)\n",
        "predictions = knn2.predict(X_validation)\n",
        "print(\"Akurasi :\", accuracy_score(Y_validation, predictions))"
      ],
      "execution_count": 66,
      "outputs": [
        {
          "output_type": "stream",
          "name": "stdout",
          "text": [
            "Akurasi : 0.8947368421052632\n"
          ]
        }
      ]
    }
  ]
}